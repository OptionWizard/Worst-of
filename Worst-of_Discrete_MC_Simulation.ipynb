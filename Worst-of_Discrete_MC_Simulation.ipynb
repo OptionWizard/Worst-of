{
 "cells": [
  {
   "cell_type": "code",
   "execution_count": 1,
   "metadata": {
    "collapsed": true
   },
   "outputs": [],
   "source": [
    "import numpy as np\n",
    "import pandas as pd\n",
    "import plotly \n",
    "import plotly.plotly as py\n",
    "import matplotlib\n",
    "import matplotlib.mlab as mlab\n",
    "import seaborn as sns\n",
    "import random\n",
    "import time\n",
    "import datetime\n",
    "import matplotlib.pyplot as plt\n",
    "import math\n",
    "\n",
    "from datetime import *\n",
    "from timeit import default_timer as timer\n",
    "\n",
    "from matplotlib import pyplot as plt\n",
    "from datetime import datetime\n",
    "from scipy import stats\n",
    "from plotly import figure_factory as FF\n",
    "from scipy.linalg import svd, sqrtm, cholesky\n",
    "from scipy.stats import multivariate_normal, normaltest, shapiro\n",
    "\n",
    "from pandas.tools.plotting import scatter_matrix\n",
    "from pandas import bdate_range\n",
    "from pandas_datareader.data import DataReader\n",
    "from pandas import Panel, DataFrame\n",
    "\n",
    "import matplotlib\n",
    "from numpy.random import randn\n",
    "import matplotlib.pyplot as plt\n",
    "from numpy.random import standard_normal"
   ]
  },
  {
   "cell_type": "code",
   "execution_count": 2,
   "metadata": {
    "collapsed": true
   },
   "outputs": [],
   "source": [
    "def Calc_stats(Prices, Val_date, Issue_date, N_coupons):\n",
    "    hist_period = N_coupons - (Val_date-Issue_date).days/365.25  #смотрим назад на столько же, сколько осталось до последнего купона\n",
    "    \n",
    "    coupons_left = N_coupons - int(((Val_date-Issue_date).days/365))\n",
    "    time_to_next_coupon = 1 - (Val_date-Issue_date).days/365 %1\n",
    "    \n",
    "    Prices_for_stats = (Prices[Prices.index>=Val_date -timedelta(days=hist_period*365.25)])\n",
    "    Prices_for_stats = (Prices_for_stats[Prices_for_stats.index<Val_date])\n",
    "    \n",
    "    log_returns = np.log(Prices_for_stats/Prices_for_stats.shift(1)).dropna() \n",
    "    \n",
    "    mu = log_returns.mean() #* 252\n",
    "    sigma = log_returns.std() * np.sqrt(252)\n",
    "    corr = log_returns.corr()\n",
    "    K = Prices[Prices.index <= Issue_date+timedelta(days=1)]\n",
    "    K = K[K.index >= Issue_date-timedelta(days=1)]\n",
    "    S0 = Prices[Prices.index <= Val_date+timedelta(days=1)]\n",
    "    S0 = S0[S0.index >= Val_date-timedelta(days=1)]\n",
    "    \n",
    "    return mu, sigma, corr, coupons_left, time_to_next_coupon, np.asarray(K), np.asarray(S0)\n"
   ]
  },
  {
   "cell_type": "code",
   "execution_count": 3,
   "metadata": {
    "collapsed": true
   },
   "outputs": [],
   "source": [
    "def price_on_date(Prices, Val_date, Issue_date, N_coupons , coupon):\n",
    "    N_SIMS = 20000\n",
    "\n",
    "    mu, sigma, corr, coupons_left, time_to_next_coupon,K,S0 = Calc_stats(Prices, Val_date, Issue_date, N_coupons)\n",
    "    \n",
    "    generated_values = pd.DataFrame(np.random.randn(3,coupons_left*N_SIMS))\n",
    "    CHOL = cholesky(corr, lower=False)\n",
    "\n",
    "    dW = generated_values.apply(lambda x: x.dot(CHOL))\n",
    "    dW.index = sigma.index #*sigma\n",
    "    dW = (dW.T*sigma)\n",
    "    dW.iloc[range(0,len(dW),coupons_left)] = dW.iloc[range(0,len(dW),coupons_left)]*np.sqrt(time_to_next_coupon )\n",
    "\n",
    "    for i in range(0, N_SIMS):\n",
    "        dW.iloc[range(5*i,5*(i+1))] = dW.iloc[range(5*i,5*(i+1))].cumsum()\n",
    "\n",
    "    dW.index = dW.index%coupons_left+time_to_next_coupon  #  индекс - это время в годах до каждого купона \n",
    "\n",
    "    S_t = S0[0]*np.exp(dW+np.outer((mu-sigma*sigma/2), dW.index).T)  # Наше ГБД в точках купонов    \n",
    "\n",
    "    payoff = np.product((S_t>K[0]),axis = 1) # получаем индикаторы событий все базовые активы выше страйка\n",
    "\n",
    "    payoff_with_mem =(np.zeros(payoff.shape))\n",
    "              \n",
    "    for s in range(0, N_SIMS): \n",
    "        for i in range(0, coupons_left):\n",
    "            payoff_with_mem[s*coupons_left + i] = ((i+1) - payoff_with_mem[s*coupons_left :s*coupons_left +i].sum(axis = 0))*payoff[s*coupons_left +i]\n",
    "\n",
    "    Discount = rfr[rfr.index <= Val_date].dropna()\n",
    "    Discount = Discount.tail(1)/100\n",
    "    \n",
    "    Discount = (1+Discount.values)**(-np.asarray(S_t.index))\n",
    "    npv = sum(sum(Discount*payoff_with_mem))/N_SIMS\n",
    "    \n",
    "    payoff_dist = []\n",
    "    return npv*coupon "
   ]
  },
  {
   "cell_type": "code",
   "execution_count": 4,
   "metadata": {
    "collapsed": true
   },
   "outputs": [],
   "source": [
    "start = datetime(2005, 7, 16)\n",
    "Val_date = datetime(2016, 9, 17)\n",
    "Issue_date = datetime(2016, 9, 15)\n",
    "\n",
    "N_coupons = 5\n",
    "\n",
    "MCD = DataReader(\"MCD\", 'google', start, date.today())\n",
    "DAL = DataReader(\"DAL\", 'google', start, date.today())\n",
    "DIS = DataReader(\"DIS\", 'google', start, date.today())\n",
    "rfr = DataReader(\"DGS5\",\"fred\",start, date.today())\n",
    "\n",
    "Prices = pd.DataFrame()\n",
    "Prices = Prices.assign(MCD = MCD['Close'], DAL = DAL['Close'], DIS = DIS['Close'])"
   ]
  },
  {
   "cell_type": "code",
   "execution_count": 6,
   "metadata": {},
   "outputs": [
    {
     "name": "stdout",
     "output_type": "stream",
     "text": [
      "XS1514686911 Credit Suisse 0.03825 2016-12-22\n"
     ]
    }
   ],
   "source": [
    "df_market = pd.read_csv('data/market_13_03.csv', header=0, sep = \";\")\n",
    "df_market.Date = pd.to_datetime(df_market['Date'], format='%d.%m.%Y')\n",
    "\n",
    "df_isin = pd.read_csv('data/market_all.csv', header=0, index_col=[0], sep = \";\")\n",
    "df_isin.index = pd.to_datetime(df_isin.index, format='%d.%m.%Y')\n",
    "\n",
    "descr = pd.read_csv('data/descr.csv', header=0, index_col=[1], delimiter=';')\n",
    "ISIN_NUM = 1\n",
    "isin = descr.index[ISIN_NUM]\n",
    "issuer = descr.Issuer[descr.index == isin].values[0]\n",
    "coupon = descr.Coupon[descr.index == isin].values[0]\n",
    "#df_price = pd.DataFrame(df_isin['ISIN'].dropna())\n",
    "df_price = df_isin[df_isin['ISIN']==isin].dropna()['ASK']\n",
    "df_price.columns = [issuer]\n",
    "d0 = min(df_price.index)\n",
    "\n",
    "print(isin, issuer, coupon, d0.date())"
   ]
  },
  {
   "cell_type": "code",
   "execution_count": null,
   "metadata": {},
   "outputs": [],
   "source": [
    "daily_p = []\n",
    "daily_d = []\n",
    "start1 = timer()\n",
    "\n",
    "for single_date in df_price.index:\n",
    "    start = timer()\n",
    "    pr = price_on_date(Prices,datetime.fromtimestamp((single_date).timestamp()),d0,5,coupon)\n",
    "    \n",
    "    daily_p.append(pr)\n",
    "    daily_d.append(single_date)\n",
    "\n",
    "df_mc = DataFrame(daily_p, index = daily_d, columns = ['model'])\n",
    "print(\"Total time = \", timer()-start1, 'seconds')"
   ]
  },
  {
   "cell_type": "code",
   "execution_count": null,
   "metadata": {},
   "outputs": [],
   "source": [
    "fig = plt.figure(num=None, figsize=(10, 3), dpi=100, facecolor='w', edgecolor='k')\n",
    "plt.plot(daily_d,daily_p,label = 'model')\n",
    "plt.plot(daily_d,df_price,label = isin)\n",
    "plt.title('Model vs issuer price', size=20)\n",
    "plt.legend(bbox_to_anchor=(1.0, 1.), loc=2,prop={'size':16})\n",
    "plt.show()"
   ]
  },
  {
   "cell_type": "code",
   "execution_count": null,
   "metadata": {
    "collapsed": true
   },
   "outputs": [],
   "source": []
  }
 ],
 "metadata": {
  "kernelspec": {
   "display_name": "Python 3",
   "language": "python",
   "name": "python3"
  },
  "language_info": {
   "codemirror_mode": {
    "name": "ipython",
    "version": 3
   },
   "file_extension": ".py",
   "mimetype": "text/x-python",
   "name": "python",
   "nbconvert_exporter": "python",
   "pygments_lexer": "ipython3",
   "version": "3.5.3"
  }
 },
 "nbformat": 4,
 "nbformat_minor": 2
}
